{
 "cells": [
  {
   "cell_type": "markdown",
   "metadata": {},
   "source": [
    "# Naive Bayes Classifiers"
   ]
  },
  {
   "cell_type": "markdown",
   "metadata": {},
   "source": [
    "Naive Bayes classifiers are a family of classifiers that are quite similar to linear classification models such as Linear SVM Classifier and LogisticRegression. However, they tend to be even faster in training. The price paid for this efficiency is that naive Bayes models often provide generalization perfor‐ mance that is slightly worse than linear classifiers like LogisticRegression and LinearSVC.\n",
    "\n",
    "The reason that naive Bayes models are so efficient is that they learn parameters by looking at each feature individually, and collect simple per-class statistics from each feature"
   ]
  },
  {
   "cell_type": "markdown",
   "metadata": {},
   "source": [
    "There are three kinds of naive Bayes classifiers implemented in scikitlearn:\n",
    "* GaussianNB (for continuous data)\n",
    "* BernoulliNB (for binary data)\n",
    "* MultinomialNB (for count data - i.e. each feature represents an integer count of something, like how often a word appears in a sentence) \n",
    "\n",
    "BernoulliNB and MultinomialNB are mostly used in text data classification, and we will revisit them in Chapter 7 (Text Data).\n",
    "\n",
    "#### BernoulliNB\n",
    "The BernoulliNB classifier counts how often every feature of each class is not zero. This is most easily understood with an example:\n",
    "```\n",
    "X = np.array([[0, 1, 0, 1],\n",
    "              [1, 0, 1, 1],\n",
    "              [0, 0, 0, 1],\n",
    "              [1, 0, 1, 0]])\n",
    "y = np.array([0, 1, 0, 1])\n",
    "```\n",
    "The other two naive Bayes models, MultinomialNB and GaussianNB are slightly dif‐ ferent in what kind of statistics they compute:\n",
    "\n",
    "#### MultinomialNB\n",
    "MultinomialNB takes into account the average value of each feature for each class\n",
    "\n",
    "#### GaussianNB\n",
    "GaussianNB stores the average value as well as the standard deviation of each feature for each class.\n",
    "\n",
    "\n",
    "#### Predictions\n",
    "**To make a prediction, a data point is compared to the statistics for each of the classes, and the best matching class is predicted.**"
   ]
  },
  {
   "cell_type": "markdown",
   "metadata": {},
   "source": [
    "### Parameters\n",
    "\n",
    "The **`MultinomialNB`** and **`BernoulliNB`** have a **single parameter alpha**, which controls model complexity. The way alpha works is that the algorithm adds alpha many virtual data points to the data, that have positive values for all the features. This results in a “smoothing” of the statistics. A large alpha means more smoothing, resulting in less complex models. The algorithms performance is relatively robust to the setting of alpha, meaning that setting alpha is not critical for good performance However, tuning it usually improves accuracy somewhat.\n",
    "\n",
    "The **`GaussianNB`** model seems to be rarely used by practitioners, while the other two variants of naive Bayes are widely used for sparse count data such as text. `MultinomialNB` usually performs better than BinaryNB, in particular on datasets with a relatively large number of non-zero features (i.e. large documents).\n",
    "\n",
    "\n",
    "### Strengths and weaknesses\n",
    "The naive Bayes models share many of the strengths and weaknesses of the linear models:\n",
    "* They are very fast to train and to predict\n",
    "* The training procedure is easy to understand. \n",
    "* The models work very well with high-dimensional sparse data, and are relatively robust to the parameters\n",
    "* Naive Bayes models are great baseline models, and are often used on very large datasets, where training even a linear model might take too long.\n"
   ]
  },
  {
   "cell_type": "code",
   "execution_count": null,
   "metadata": {
    "collapsed": true
   },
   "outputs": [],
   "source": []
  }
 ],
 "metadata": {
  "kernelspec": {
   "display_name": "Python 2",
   "language": "python",
   "name": "python2"
  },
  "language_info": {
   "codemirror_mode": {
    "name": "ipython",
    "version": 2
   },
   "file_extension": ".py",
   "mimetype": "text/x-python",
   "name": "python",
   "nbconvert_exporter": "python",
   "pygments_lexer": "ipython2",
   "version": "2.7.13"
  }
 },
 "nbformat": 4,
 "nbformat_minor": 2
}
